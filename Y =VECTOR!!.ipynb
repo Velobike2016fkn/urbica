{
 "cells": [
  {
   "cell_type": "markdown",
   "metadata": {},
   "source": [
    "# Velobikes"
   ]
  },
  {
   "cell_type": "markdown",
   "metadata": {},
   "source": [
    "Мы хотим предсказать по утренним данным о загруженности вечерние.\n",
    "Эта программа считает по загруженности по часам утром загруженность по часам вечером."
   ]
  },
  {
   "cell_type": "code",
   "execution_count": 97,
   "metadata": {
    "collapsed": false
   },
   "outputs": [],
   "source": [
    "import numpy as np\n",
    "import pandas as pd\n",
    "from dateutil.parser import parse\n",
    "import theano.tensor as T\n",
    "import theano\n",
    "import matplotlib.pyplot as plt\n",
    "f = pd.read_csv(\"data.csv\")\n",
    "import lasagne"
   ]
  },
  {
   "cell_type": "markdown",
   "metadata": {
    "collapsed": true
   },
   "source": [
    "### Загружаем данные о велостанциях по часам"
   ]
  },
  {
   "cell_type": "code",
   "execution_count": 98,
   "metadata": {
    "collapsed": false
   },
   "outputs": [
    {
     "data": {
      "text/html": [
       "<div>\n",
       "<table border=\"1\" class=\"dataframe\">\n",
       "  <thead>\n",
       "    <tr style=\"text-align: right;\">\n",
       "      <th></th>\n",
       "      <th>2016-04-21T08:00:00</th>\n",
       "      <th>2016-04-21T09:00:00</th>\n",
       "      <th>2016-04-21T10:00:00</th>\n",
       "      <th>2016-04-21T11:00:00</th>\n",
       "      <th>2016-04-21T12:00:00</th>\n",
       "      <th>2016-04-21T13:00:00</th>\n",
       "      <th>2016-04-21T14:00:00</th>\n",
       "      <th>2016-04-21T15:00:00</th>\n",
       "      <th>2016-04-21T16:00:00</th>\n",
       "      <th>2016-04-21T17:00:00</th>\n",
       "      <th>...</th>\n",
       "      <th>2016-07-01T04:00:00</th>\n",
       "      <th>2016-07-01T05:00:00</th>\n",
       "      <th>2016-07-01T06:00:00</th>\n",
       "      <th>2016-07-01T07:00:00</th>\n",
       "      <th>2016-07-01T08:00:00</th>\n",
       "      <th>2016-07-01T09:00:00</th>\n",
       "      <th>2016-07-01T10:00:00</th>\n",
       "      <th>2016-07-01T11:00:00</th>\n",
       "      <th>2016-07-01T12:00:00</th>\n",
       "      <th>2016-07-01T13:00:00</th>\n",
       "    </tr>\n",
       "  </thead>\n",
       "  <tbody>\n",
       "    <tr>\n",
       "      <th>0</th>\n",
       "      <td>10</td>\n",
       "      <td>10.0</td>\n",
       "      <td>10.0</td>\n",
       "      <td>10.000000</td>\n",
       "      <td>10.000000</td>\n",
       "      <td>10.000000</td>\n",
       "      <td>10.103064</td>\n",
       "      <td>10.284010</td>\n",
       "      <td>10.359081</td>\n",
       "      <td>10.293135</td>\n",
       "      <td>...</td>\n",
       "      <td>9.247622</td>\n",
       "      <td>9.246876</td>\n",
       "      <td>9.246141</td>\n",
       "      <td>9.245944</td>\n",
       "      <td>9.244484</td>\n",
       "      <td>9.242877</td>\n",
       "      <td>9.243557</td>\n",
       "      <td>9.244633</td>\n",
       "      <td>9.246790</td>\n",
       "      <td>9.248279</td>\n",
       "    </tr>\n",
       "    <tr>\n",
       "      <th>1</th>\n",
       "      <td>7</td>\n",
       "      <td>7.0</td>\n",
       "      <td>7.0</td>\n",
       "      <td>6.750000</td>\n",
       "      <td>6.562500</td>\n",
       "      <td>6.451505</td>\n",
       "      <td>6.376045</td>\n",
       "      <td>6.322196</td>\n",
       "      <td>6.281837</td>\n",
       "      <td>6.168831</td>\n",
       "      <td>...</td>\n",
       "      <td>4.740542</td>\n",
       "      <td>4.740099</td>\n",
       "      <td>4.739657</td>\n",
       "      <td>4.738747</td>\n",
       "      <td>4.736397</td>\n",
       "      <td>4.733770</td>\n",
       "      <td>4.734157</td>\n",
       "      <td>4.734912</td>\n",
       "      <td>4.735516</td>\n",
       "      <td>4.735673</td>\n",
       "    </tr>\n",
       "    <tr>\n",
       "      <th>2</th>\n",
       "      <td>4</td>\n",
       "      <td>4.0</td>\n",
       "      <td>4.0</td>\n",
       "      <td>4.311111</td>\n",
       "      <td>4.483333</td>\n",
       "      <td>4.585284</td>\n",
       "      <td>4.654596</td>\n",
       "      <td>4.844869</td>\n",
       "      <td>4.989562</td>\n",
       "      <td>5.102041</td>\n",
       "      <td>...</td>\n",
       "      <td>3.671111</td>\n",
       "      <td>3.670709</td>\n",
       "      <td>3.670020</td>\n",
       "      <td>3.668684</td>\n",
       "      <td>3.666494</td>\n",
       "      <td>3.664774</td>\n",
       "      <td>3.664448</td>\n",
       "      <td>3.664787</td>\n",
       "      <td>3.664034</td>\n",
       "      <td>3.663351</td>\n",
       "    </tr>\n",
       "    <tr>\n",
       "      <th>3</th>\n",
       "      <td>5</td>\n",
       "      <td>5.0</td>\n",
       "      <td>5.0</td>\n",
       "      <td>5.000000</td>\n",
       "      <td>5.241667</td>\n",
       "      <td>5.488294</td>\n",
       "      <td>5.682451</td>\n",
       "      <td>5.727924</td>\n",
       "      <td>5.872651</td>\n",
       "      <td>5.829314</td>\n",
       "      <td>...</td>\n",
       "      <td>6.158427</td>\n",
       "      <td>6.158332</td>\n",
       "      <td>6.158238</td>\n",
       "      <td>6.158113</td>\n",
       "      <td>6.159312</td>\n",
       "      <td>6.161335</td>\n",
       "      <td>6.162808</td>\n",
       "      <td>6.163099</td>\n",
       "      <td>6.163150</td>\n",
       "      <td>6.163916</td>\n",
       "    </tr>\n",
       "    <tr>\n",
       "      <th>4</th>\n",
       "      <td>5</td>\n",
       "      <td>4.4</td>\n",
       "      <td>4.7</td>\n",
       "      <td>4.800000</td>\n",
       "      <td>4.850000</td>\n",
       "      <td>4.879599</td>\n",
       "      <td>4.693593</td>\n",
       "      <td>4.451074</td>\n",
       "      <td>4.281837</td>\n",
       "      <td>4.139147</td>\n",
       "      <td>...</td>\n",
       "      <td>4.874060</td>\n",
       "      <td>4.874135</td>\n",
       "      <td>4.874211</td>\n",
       "      <td>4.874793</td>\n",
       "      <td>4.875843</td>\n",
       "      <td>4.876215</td>\n",
       "      <td>4.876498</td>\n",
       "      <td>4.876144</td>\n",
       "      <td>4.875533</td>\n",
       "      <td>4.873683</td>\n",
       "    </tr>\n",
       "    <tr>\n",
       "      <th>5</th>\n",
       "      <td>4</td>\n",
       "      <td>4.0</td>\n",
       "      <td>4.0</td>\n",
       "      <td>4.000000</td>\n",
       "      <td>4.000000</td>\n",
       "      <td>4.000000</td>\n",
       "      <td>4.000000</td>\n",
       "      <td>4.000000</td>\n",
       "      <td>4.000000</td>\n",
       "      <td>4.005566</td>\n",
       "      <td>...</td>\n",
       "      <td>4.087769</td>\n",
       "      <td>4.087119</td>\n",
       "      <td>4.086469</td>\n",
       "      <td>4.086387</td>\n",
       "      <td>4.086793</td>\n",
       "      <td>4.085926</td>\n",
       "      <td>4.085279</td>\n",
       "      <td>4.084841</td>\n",
       "      <td>4.084016</td>\n",
       "      <td>4.083024</td>\n",
       "    </tr>\n",
       "    <tr>\n",
       "      <th>6</th>\n",
       "      <td>8</td>\n",
       "      <td>8.0</td>\n",
       "      <td>7.0</td>\n",
       "      <td>6.000000</td>\n",
       "      <td>5.500000</td>\n",
       "      <td>5.204013</td>\n",
       "      <td>5.002786</td>\n",
       "      <td>4.780430</td>\n",
       "      <td>4.486430</td>\n",
       "      <td>4.274583</td>\n",
       "      <td>...</td>\n",
       "      <td>3.039058</td>\n",
       "      <td>3.039035</td>\n",
       "      <td>3.039012</td>\n",
       "      <td>3.038988</td>\n",
       "      <td>3.039045</td>\n",
       "      <td>3.039031</td>\n",
       "      <td>3.039276</td>\n",
       "      <td>3.039849</td>\n",
       "      <td>3.039994</td>\n",
       "      <td>3.039940</td>\n",
       "    </tr>\n",
       "    <tr>\n",
       "      <th>7</th>\n",
       "      <td>4</td>\n",
       "      <td>4.0</td>\n",
       "      <td>4.0</td>\n",
       "      <td>4.000000</td>\n",
       "      <td>3.945833</td>\n",
       "      <td>3.759197</td>\n",
       "      <td>3.632312</td>\n",
       "      <td>3.541766</td>\n",
       "      <td>3.473904</td>\n",
       "      <td>3.322820</td>\n",
       "      <td>...</td>\n",
       "      <td>3.328371</td>\n",
       "      <td>3.327806</td>\n",
       "      <td>3.327610</td>\n",
       "      <td>3.328250</td>\n",
       "      <td>3.328582</td>\n",
       "      <td>3.327541</td>\n",
       "      <td>3.325686</td>\n",
       "      <td>3.326366</td>\n",
       "      <td>3.326519</td>\n",
       "      <td>3.330133</td>\n",
       "    </tr>\n",
       "    <tr>\n",
       "      <th>8</th>\n",
       "      <td>5</td>\n",
       "      <td>5.0</td>\n",
       "      <td>5.0</td>\n",
       "      <td>5.000000</td>\n",
       "      <td>5.000000</td>\n",
       "      <td>5.000000</td>\n",
       "      <td>5.000000</td>\n",
       "      <td>5.000000</td>\n",
       "      <td>5.000000</td>\n",
       "      <td>4.996289</td>\n",
       "      <td>...</td>\n",
       "      <td>4.510051</td>\n",
       "      <td>4.510344</td>\n",
       "      <td>4.510298</td>\n",
       "      <td>4.511098</td>\n",
       "      <td>4.511768</td>\n",
       "      <td>4.513829</td>\n",
       "      <td>4.516126</td>\n",
       "      <td>4.518201</td>\n",
       "      <td>4.518875</td>\n",
       "      <td>4.519112</td>\n",
       "    </tr>\n",
       "    <tr>\n",
       "      <th>9</th>\n",
       "      <td>3</td>\n",
       "      <td>3.0</td>\n",
       "      <td>3.2</td>\n",
       "      <td>3.383333</td>\n",
       "      <td>3.287500</td>\n",
       "      <td>3.086957</td>\n",
       "      <td>3.189415</td>\n",
       "      <td>3.305489</td>\n",
       "      <td>3.392484</td>\n",
       "      <td>3.306122</td>\n",
       "      <td>...</td>\n",
       "      <td>4.176944</td>\n",
       "      <td>4.177057</td>\n",
       "      <td>4.178216</td>\n",
       "      <td>4.180827</td>\n",
       "      <td>4.182391</td>\n",
       "      <td>4.183057</td>\n",
       "      <td>4.182670</td>\n",
       "      <td>4.182094</td>\n",
       "      <td>4.182651</td>\n",
       "      <td>4.180866</td>\n",
       "    </tr>\n",
       "  </tbody>\n",
       "</table>\n",
       "<p>10 rows × 1705 columns</p>\n",
       "</div>"
      ],
      "text/plain": [
       "   2016-04-21T08:00:00  2016-04-21T09:00:00  2016-04-21T10:00:00  \\\n",
       "0                   10                 10.0                 10.0   \n",
       "1                    7                  7.0                  7.0   \n",
       "2                    4                  4.0                  4.0   \n",
       "3                    5                  5.0                  5.0   \n",
       "4                    5                  4.4                  4.7   \n",
       "5                    4                  4.0                  4.0   \n",
       "6                    8                  8.0                  7.0   \n",
       "7                    4                  4.0                  4.0   \n",
       "8                    5                  5.0                  5.0   \n",
       "9                    3                  3.0                  3.2   \n",
       "\n",
       "   2016-04-21T11:00:00  2016-04-21T12:00:00  2016-04-21T13:00:00  \\\n",
       "0            10.000000            10.000000            10.000000   \n",
       "1             6.750000             6.562500             6.451505   \n",
       "2             4.311111             4.483333             4.585284   \n",
       "3             5.000000             5.241667             5.488294   \n",
       "4             4.800000             4.850000             4.879599   \n",
       "5             4.000000             4.000000             4.000000   \n",
       "6             6.000000             5.500000             5.204013   \n",
       "7             4.000000             3.945833             3.759197   \n",
       "8             5.000000             5.000000             5.000000   \n",
       "9             3.383333             3.287500             3.086957   \n",
       "\n",
       "   2016-04-21T14:00:00  2016-04-21T15:00:00  2016-04-21T16:00:00  \\\n",
       "0            10.103064            10.284010            10.359081   \n",
       "1             6.376045             6.322196             6.281837   \n",
       "2             4.654596             4.844869             4.989562   \n",
       "3             5.682451             5.727924             5.872651   \n",
       "4             4.693593             4.451074             4.281837   \n",
       "5             4.000000             4.000000             4.000000   \n",
       "6             5.002786             4.780430             4.486430   \n",
       "7             3.632312             3.541766             3.473904   \n",
       "8             5.000000             5.000000             5.000000   \n",
       "9             3.189415             3.305489             3.392484   \n",
       "\n",
       "   2016-04-21T17:00:00         ...           2016-07-01T04:00:00  \\\n",
       "0            10.293135         ...                      9.247622   \n",
       "1             6.168831         ...                      4.740542   \n",
       "2             5.102041         ...                      3.671111   \n",
       "3             5.829314         ...                      6.158427   \n",
       "4             4.139147         ...                      4.874060   \n",
       "5             4.005566         ...                      4.087769   \n",
       "6             4.274583         ...                      3.039058   \n",
       "7             3.322820         ...                      3.328371   \n",
       "8             4.996289         ...                      4.510051   \n",
       "9             3.306122         ...                      4.176944   \n",
       "\n",
       "   2016-07-01T05:00:00  2016-07-01T06:00:00  2016-07-01T07:00:00  \\\n",
       "0             9.246876             9.246141             9.245944   \n",
       "1             4.740099             4.739657             4.738747   \n",
       "2             3.670709             3.670020             3.668684   \n",
       "3             6.158332             6.158238             6.158113   \n",
       "4             4.874135             4.874211             4.874793   \n",
       "5             4.087119             4.086469             4.086387   \n",
       "6             3.039035             3.039012             3.038988   \n",
       "7             3.327806             3.327610             3.328250   \n",
       "8             4.510344             4.510298             4.511098   \n",
       "9             4.177057             4.178216             4.180827   \n",
       "\n",
       "   2016-07-01T08:00:00  2016-07-01T09:00:00  2016-07-01T10:00:00  \\\n",
       "0             9.244484             9.242877             9.243557   \n",
       "1             4.736397             4.733770             4.734157   \n",
       "2             3.666494             3.664774             3.664448   \n",
       "3             6.159312             6.161335             6.162808   \n",
       "4             4.875843             4.876215             4.876498   \n",
       "5             4.086793             4.085926             4.085279   \n",
       "6             3.039045             3.039031             3.039276   \n",
       "7             3.328582             3.327541             3.325686   \n",
       "8             4.511768             4.513829             4.516126   \n",
       "9             4.182391             4.183057             4.182670   \n",
       "\n",
       "   2016-07-01T11:00:00  2016-07-01T12:00:00  2016-07-01T13:00:00  \n",
       "0             9.244633             9.246790             9.248279  \n",
       "1             4.734912             4.735516             4.735673  \n",
       "2             3.664787             3.664034             3.663351  \n",
       "3             6.163099             6.163150             6.163916  \n",
       "4             4.876144             4.875533             4.873683  \n",
       "5             4.084841             4.084016             4.083024  \n",
       "6             3.039849             3.039994             3.039940  \n",
       "7             3.326366             3.326519             3.330133  \n",
       "8             4.518201             4.518875             4.519112  \n",
       "9             4.182094             4.182651             4.180866  \n",
       "\n",
       "[10 rows x 1705 columns]"
      ]
     },
     "execution_count": 98,
     "metadata": {},
     "output_type": "execute_result"
    }
   ],
   "source": [
    "f = f.ix[:,1:f.shape[1]]\n",
    "d = f\n",
    "d.head(10)"
   ]
  },
  {
   "cell_type": "markdown",
   "metadata": {},
   "source": [
    "выбираем утренние часы(X) и вечерний час(Y)"
   ]
  },
  {
   "cell_type": "code",
   "execution_count": 99,
   "metadata": {
    "collapsed": false
   },
   "outputs": [],
   "source": [
    "def hours(time):\n",
    "    hour = parse(str(time)).hour\n",
    "    return hour\n",
    "data_set = []\n",
    "data_set_Y = []\n",
    "\n",
    "for i in f:\n",
    "    time = i\n",
    "    if (hours(time) >= 8 and hours(time) <=12):\n",
    "        data_set.append(i)\n",
    "    if (hours(time) >= 16 and hours(time) <= 20):\n",
    "        data_set_Y.append(i)"
   ]
  },
  {
   "cell_type": "markdown",
   "metadata": {},
   "source": [
    "Выбираем соответствующие столбцы данных"
   ]
  },
  {
   "cell_type": "code",
   "execution_count": 100,
   "metadata": {
    "collapsed": false
   },
   "outputs": [],
   "source": [
    "D = []\n",
    "Y = []\n",
    "buf = []\n",
    "ind = 0\n",
    "for i in data_set:\n",
    "   D.append(list(f[i]))\n",
    "\n",
    "for i in data_set_Y:\n",
    "    Y.append(list(f[i]))"
   ]
  },
  {
   "cell_type": "code",
   "execution_count": 101,
   "metadata": {
    "collapsed": false
   },
   "outputs": [],
   "source": [
    "D = pd.DataFrame(D)\n",
    "Y = pd.DataFrame(Y)\n",
    "Y = [np.array(Y[i]) for i in Y]"
   ]
  },
  {
   "cell_type": "code",
   "execution_count": 102,
   "metadata": {
    "collapsed": false
   },
   "outputs": [],
   "source": [
    "\n",
    "YY = []\n",
    "for i in xrange(len(Y)):\n",
    "    Y1 = []\n",
    "    ind = 0\n",
    "    while ind < len(Y[i]) -5:\n",
    "        Y1.append(Y[i][ind:ind+5])\n",
    "        ind = ind + 5\n",
    "    YY.append(Y1)"
   ]
  },
  {
   "cell_type": "code",
   "execution_count": 103,
   "metadata": {
    "collapsed": true
   },
   "outputs": [],
   "source": [
    "X = [np.array(D[i]) for i in D]"
   ]
  },
  {
   "cell_type": "code",
   "execution_count": 104,
   "metadata": {
    "collapsed": false
   },
   "outputs": [],
   "source": [
    "XX = []\n",
    "for i in xrange(len(X)):\n",
    "    X1 = []\n",
    "    ind = 0\n",
    "    while ind < len(X[i]) - 10:\n",
    "        X1.append(X[i][ind:ind+5])\n",
    "        ind = ind + 5\n",
    "    XX.append(X1)\n",
    "\n"
   ]
  },
  {
   "cell_type": "markdown",
   "metadata": {},
   "source": [
    "Формат данных: в XX (станции, дни, часы) = загруженность, YY (станции, дни) = загруженность\n",
    "т.е. XX[0][3][0] = для третьего дня, для \"8\" часов утра какая была загруженность \"0\" станции\n",
    "    YY[1][2][0] = для второго дня, для 16 часов вечера какая была загруженность \"1\" станции\n",
    "Соответсятвенно, от нейронки мы будем ждать предсказание вечерней загруженности по утренней.\n"
   ]
  },
  {
   "cell_type": "code",
   "execution_count": 105,
   "metadata": {
    "collapsed": false
   },
   "outputs": [],
   "source": [
    "input_X = T.matrix(\"XX\", dtype='float64')\n",
    "target_y = T.matrix(\"Vec\", dtype='float64')\n",
    "input_shape = [None, 5]\n",
    "rate = theano.shared(0.01)"
   ]
  },
  {
   "cell_type": "markdown",
   "metadata": {},
   "source": [
    "#### Создадим 4 скрытых слоя с 20 нейронами, сигмоидальной активационной функцией."
   ]
  },
  {
   "cell_type": "code",
   "execution_count": 106,
   "metadata": {
    "collapsed": false
   },
   "outputs": [],
   "source": [
    "input_layer = lasagne.layers.InputLayer(shape = input_shape,input_var=input_X)\n",
    "\n",
    "dense_layer_1 = lasagne.layers.DenseLayer(input_layer, num_units= 10, nonlinearity= lasagne.nonlinearities.sigmoid,  \n",
    "                                          name = \"hidden_dense_layer_1\")\n",
    "#\"один - это не серьезно\n",
    "dense_layer_1 = lasagne.layers.DenseLayer(dense_layer_1, num_units= 20, nonlinearity= lasagne.nonlinearities.sigmoid,  \n",
    "                                          name = \"hidden_dense_layer_1\")\n",
    "#ееее, больше слоев!!!!!\n",
    "dense_layer_1 = lasagne.layers.DenseLayer(dense_layer_1, num_units= 10, nonlinearity= lasagne.nonlinearities.sigmoid,  \n",
    "                                          name = \"hidden_dense_layer_1\")\n",
    "#вот этот точно последний\n",
    "dense_layer_1 = lasagne.layers.DenseLayer(dense_layer_1, num_units= 7, nonlinearity= lasagne.nonlinearities.sigmoid,  \n",
    "                                          name = \"hidden_dense_layer_1\")\n",
    "\n",
    "\n",
    "output_layer = lasagne.layers.DenseLayer(dense_layer_1, num_units= 5, \n",
    "                                         nonlinearity= lasagne.nonlinearities.linear,name = \"output_layer\")"
   ]
  },
  {
   "cell_type": "code",
   "execution_count": 107,
   "metadata": {
    "collapsed": true
   },
   "outputs": [],
   "source": [
    "y_predicted = lasagne.layers.get_output(output_layer)"
   ]
  },
  {
   "cell_type": "code",
   "execution_count": 108,
   "metadata": {
    "collapsed": true
   },
   "outputs": [],
   "source": [
    "all_weights = lasagne.layers.get_all_params(output_layer)"
   ]
  },
  {
   "cell_type": "code",
   "execution_count": 109,
   "metadata": {
    "collapsed": false
   },
   "outputs": [],
   "source": [
    "loss = lasagne.objectives.squared_error(y_predicted,target_y).mean()"
   ]
  },
  {
   "cell_type": "code",
   "execution_count": 110,
   "metadata": {
    "collapsed": true
   },
   "outputs": [],
   "source": [
    "accuracy = lasagne.objectives.categorical_accuracy(y_predicted,target_y).mean()"
   ]
  },
  {
   "cell_type": "code",
   "execution_count": 111,
   "metadata": {
    "collapsed": true
   },
   "outputs": [],
   "source": [
    "updates_sgd = lasagne.updates.rmsprop(loss, all_weights,learning_rate=rate)"
   ]
  },
  {
   "cell_type": "code",
   "execution_count": 112,
   "metadata": {
    "collapsed": false
   },
   "outputs": [],
   "source": [
    "train_fun = theano.function([input_X,target_y],[loss,accuracy],updates= updates_sgd, allow_input_downcast= True)"
   ]
  },
  {
   "cell_type": "code",
   "execution_count": 113,
   "metadata": {
    "collapsed": true
   },
   "outputs": [],
   "source": [
    "accuracy_fun = theano.function([input_X,target_y],[loss, accuracy], allow_input_downcast= True)\n",
    "\n"
   ]
  },
  {
   "cell_type": "code",
   "execution_count": 118,
   "metadata": {
    "collapsed": false
   },
   "outputs": [
    {
     "name": "stdout",
     "output_type": "stream",
     "text": [
      "(70, 5)\n"
     ]
    }
   ],
   "source": [
    "print((np.array(YY[0]).shape))"
   ]
  },
  {
   "cell_type": "markdown",
   "metadata": {},
   "source": [
    "## Обучим нейронку"
   ]
  },
  {
   "cell_type": "code",
   "execution_count": 125,
   "metadata": {
    "collapsed": false
   },
   "outputs": [
    {
     "name": "stdout",
     "output_type": "stream",
     "text": [
      "mean_err = 0.00262235270645\n",
      "mean 100%*(1-sqrt(err)) = 94.8791087627\n"
     ]
    }
   ],
   "source": [
    "\n",
    "import math\n",
    "all_err = []\n",
    "graph = []\n",
    "gr = []\n",
    "for j in range(len(XX) - 1):\n",
    "    #print \"Station\",j, \":\"\n",
    "    train_x = XX[j][:50]\n",
    "    train_y = YY[j][:50]\n",
    "    check_x = XX[j][50:]\n",
    "    check_y = YY[j][50:]\n",
    "    \n",
    "    \n",
    "    for i in range(10):\n",
    "        for a, b in zip(train_x, train_y):\n",
    "            l, c = train_fun(a.reshape(1, -1), b.reshape(1, -1))\n",
    "            gr.append(l)\n",
    "            rate=rate*0.999\n",
    "    #print \"#Start checking error\"\n",
    "    for a, b in zip(check_x, check_y):\n",
    "        \n",
    "        l, c = train_fun(a.reshape(1, -1), b.reshape(1, -1))\n",
    "        all_err.append(l)\n",
    "        #print \"error = \", l, \"| 100%*(1-sqrt(err)) = \", 100 - math.sqrt(l)*100\n",
    "        graph.append(l)\n",
    "print \"mean_err =\", np.mean(all_err)\n",
    "print \"mean 100%*(1-sqrt(err)) =\", 100*(1 - math.sqrt(np.mean(all_err)))"
   ]
  },
  {
   "cell_type": "markdown",
   "metadata": {},
   "source": [
    "Нарисуем графики\n",
    "1) check\n",
    "2) train"
   ]
  },
  {
   "cell_type": "code",
   "execution_count": 126,
   "metadata": {
    "collapsed": false
   },
   "outputs": [
    {
     "data": {
      "text/plain": [
       "[<matplotlib.lines.Line2D at 0x7fb7ef32e1d0>]"
      ]
     },
     "execution_count": 126,
     "metadata": {},
     "output_type": "execute_result"
    },
    {
     "data": {
      "image/png": "[encoded data removed]",
      "text/plain": [
       "<matplotlib.figure.Figure at 0x7fb7eb36a490>"
      ]
     },
     "metadata": {},
     "output_type": "display_data"
    }
   ],
   "source": [
    "import matplotlib.pyplot as plt\n",
    "%matplotlib inline\n",
    "plt.plot(graph)"
   ]
  },
  {
   "cell_type": "code",
   "execution_count": 127,
   "metadata": {
    "collapsed": false
   },
   "outputs": [
    {
     "data": {
      "image/png": "[encoded data removed]",
      "text/plain": [
       "<matplotlib.figure.Figure at 0x7fb7edb6b7d0>"
      ]
     },
     "metadata": {},
     "output_type": "display_data"
    }
   ],
   "source": [
    "plt.plot(gr)\n",
    "rate = 0.01"
   ]
  },
  {
   "cell_type": "code",
   "execution_count": null,
   "metadata": {
    "collapsed": true
   },
   "outputs": [],
   "source": []
  }
 ],
 "metadata": {
  "kernelspec": {
   "display_name": "Python 2",
   "language": "python",
   "name": "python2"
  },
  "language_info": {
   "codemirror_mode": {
    "name": "ipython",
    "version": 2
   },
   "file_extension": ".py",
   "mimetype": "text/x-python",
   "name": "python",
   "nbconvert_exporter": "python",
   "pygments_lexer": "ipython2",
   "version": "2.7.10"
  }
 },
 "nbformat": 4,
 "nbformat_minor": 0
}
