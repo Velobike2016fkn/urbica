{
 "cells": [
  {
   "cell_type": "code",
   "execution_count": 2,
   "metadata": {
    "collapsed": false
   },
   "outputs": [],
   "source": [
    "import numpy as np\n",
    "import pandas as pd\n",
    "from dateutil.parser import parse\n",
    "import theano.tensor as T\n",
    "import theano\n",
    "import matplotlib.pyplot as plt\n",
    "f = pd.read_csv(\"data.csv\")\n",
    "import lasagne"
   ]
  },
  {
   "cell_type": "code",
   "execution_count": 3,
   "metadata": {
    "collapsed": false
   },
   "outputs": [],
   "source": [
    "f = f.ix[:,1:f.shape[1]]\n",
    "d = f"
   ]
  },
  {
   "cell_type": "code",
   "execution_count": 4,
   "metadata": {
    "collapsed": false
   },
   "outputs": [],
   "source": [
    "def hours(time):\n",
    "    hour = parse(str(time)).hour\n",
    "    return hour\n",
    "data_set = []\n",
    "data_set_Y = []\n",
    "\n",
    "for i in f:\n",
    "    time = i\n",
    "    if (hours(time) >= 8 and hours(time) <=12):\n",
    "        data_set.append(i)\n",
    "    if (hours(time) == 19):\n",
    "        data_set_Y.append(i)"
   ]
  },
  {
   "cell_type": "code",
   "execution_count": 5,
   "metadata": {
    "collapsed": false
   },
   "outputs": [],
   "source": [
    "D = []\n",
    "Y = []\n",
    "buf = []\n",
    "ind = 0\n",
    "for i in data_set:\n",
    "   D.append(list(f[i]))\n",
    "\n",
    "for i in data_set_Y:\n",
    "    Y.append(list(f[i]))"
   ]
  },
  {
   "cell_type": "code",
   "execution_count": 6,
   "metadata": {
    "collapsed": false
   },
   "outputs": [],
   "source": [
    "D = pd.DataFrame(D)\n",
    "Y = pd.DataFrame(Y)"
   ]
  },
  {
   "cell_type": "code",
   "execution_count": 7,
   "metadata": {
    "collapsed": false
   },
   "outputs": [],
   "source": [
    "YY = []\n",
    "for i in Y:\n",
    "    YY.append(Y[i])"
   ]
  },
  {
   "cell_type": "code",
   "execution_count": 8,
   "metadata": {
    "collapsed": true
   },
   "outputs": [],
   "source": [
    "X = [np.array(D[i]) for i in D]"
   ]
  },
  {
   "cell_type": "code",
   "execution_count": 9,
   "metadata": {
    "collapsed": false
   },
   "outputs": [
    {
     "name": "stdout",
     "output_type": "stream",
     "text": [
      "70\n"
     ]
    }
   ],
   "source": [
    "XX = []\n",
    "for i in xrange(len(X)):\n",
    "    X1 = []\n",
    "    ind = 0\n",
    "    while ind < len(X[i]) - 10:\n",
    "        X1.append(X[i][ind:ind+5])\n",
    "        ind = ind + 5\n",
    "    XX.append(X1)\n",
    "print(len(XX[0]))\n",
    "\n"
   ]
  },
  {
   "cell_type": "code",
   "execution_count": 14,
   "metadata": {
    "collapsed": false
   },
   "outputs": [],
   "source": [
    "input_X = T.matrix(\"XX\", dtype='float64')\n",
    "target_y = T.vector(\"Vec\", dtype='float64')\n",
    "input_shape = [None, 5]\n",
    "rate = theano.shared(0.02)"
   ]
  },
  {
   "cell_type": "code",
   "execution_count": 15,
   "metadata": {
    "collapsed": false
   },
   "outputs": [],
   "source": [
    "input_layer = lasagne.layers.InputLayer(shape = input_shape,input_var=input_X)\n",
    "dense_layer_1 = lasagne.layers.DenseLayer(input_layer, num_units= 20, nonlinearity= lasagne.nonlinearities.sigmoid,  \n",
    "                                          name = \"hidden_dense_layer_1\")\n",
    "output_layer = lasagne.layers.DenseLayer(dense_layer_1, num_units= 1, \n",
    "                                         nonlinearity= lasagne.nonlinearities.linear,name = \"output_layer\")"
   ]
  },
  {
   "cell_type": "code",
   "execution_count": 16,
   "metadata": {
    "collapsed": true
   },
   "outputs": [],
   "source": [
    "y_predicted = lasagne.layers.get_output(output_layer)"
   ]
  },
  {
   "cell_type": "code",
   "execution_count": 17,
   "metadata": {
    "collapsed": true
   },
   "outputs": [],
   "source": [
    "all_weights = lasagne.layers.get_all_params(output_layer)"
   ]
  },
  {
   "cell_type": "code",
   "execution_count": 18,
   "metadata": {
    "collapsed": false
   },
   "outputs": [],
   "source": [
    "loss = lasagne.objectives.squared_error(y_predicted,target_y).mean()"
   ]
  },
  {
   "cell_type": "code",
   "execution_count": 19,
   "metadata": {
    "collapsed": true
   },
   "outputs": [],
   "source": [
    "accuracy = lasagne.objectives.squared_error(y_predicted,target_y).mean()"
   ]
  },
  {
   "cell_type": "code",
   "execution_count": 20,
   "metadata": {
    "collapsed": true
   },
   "outputs": [],
   "source": [
    "updates_sgd = lasagne.updates.rmsprop(loss, all_weights,learning_rate=rate)"
   ]
  },
  {
   "cell_type": "code",
   "execution_count": 21,
   "metadata": {
    "collapsed": false
   },
   "outputs": [
    {
     "name": "stderr",
     "output_type": "stream",
     "text": [
      "WARNING (theano.tensor.blas): We did not found a dynamic library into the library_dir of the library we use for blas. If you use ATLAS, make sure to compile it with dynamics library.\n",
      "WARNING:theano.tensor.blas:We did not found a dynamic library into the library_dir of the library we use for blas. If you use ATLAS, make sure to compile it with dynamics library.\n"
     ]
    }
   ],
   "source": [
    "train_fun = theano.function([input_X,target_y],[loss,accuracy],updates= updates_sgd, allow_input_downcast= True)"
   ]
  },
  {
   "cell_type": "code",
   "execution_count": 22,
   "metadata": {
    "collapsed": true
   },
   "outputs": [],
   "source": [
    "accuracy_fun = theano.function([input_X,target_y],[loss, accuracy], allow_input_downcast= True)\n",
    "\n"
   ]
  },
  {
   "cell_type": "code",
   "execution_count": null,
   "metadata": {
    "collapsed": false
   },
   "outputs": [],
   "source": []
  },
  {
   "cell_type": "code",
   "execution_count": 23,
   "metadata": {
    "collapsed": false
   },
   "outputs": [
    {
     "name": "stdout",
     "output_type": "stream",
     "text": [
      "(50, 1)\n"
     ]
    }
   ],
   "source": [
    "train_x = XX[0][:50]\n",
    "train_y = YY[0][:50].values.reshape([-1,1])\n",
    "check_x = XX[0][50:]\n",
    "check_y = YY[0][50:].values.reshape([-1,1])\n",
    "print(np.array(train_y).shape)\n"
   ]
  },
  {
   "cell_type": "code",
   "execution_count": 37,
   "metadata": {
    "collapsed": false
   },
   "outputs": [],
   "source": [
    "import random\n",
    "def shuffle(x):\n",
    "    random.shuffle(x)\n",
    "    return x\n",
    "rand = shuffle([i for i in xrange(50)])\n",
    "\n",
    "for i in xrange(len(train_x)):\n",
    "    \n"
   ]
  },
  {
   "cell_type": "code",
   "execution_count": 26,
   "metadata": {
    "collapsed": false
   },
   "outputs": [
    {
     "name": "stdout",
     "output_type": "stream",
     "text": [
      "0.00223213825902\n",
      "0.00450253447154\n",
      "0.00339541563268\n",
      "0.00312562041868\n",
      "0.000941300807284\n",
      "0.000135059097283\n",
      "0.00401439140681\n",
      "0.0150643270902\n",
      "0.00269819257331\n",
      "0.00361080580639\n",
      "0.00107339402397\n",
      "2.32660396893e-05\n",
      "0.000564436417173\n",
      "0.00271066340472\n",
      "0.00668008520224\n",
      "0.0101978786579\n",
      "0.00487613253429\n",
      "0.00833279203174\n",
      "0.0296432843863\n",
      "0.0355223307049\n"
     ]
    }
   ],
   "source": [
    "graph = []\n",
    "gr = []\n",
    "\n",
    "for i in range(100):\n",
    "    for a, b in zip(train_x, train_y):\n",
    "        l, c = train_fun(a.reshape(1, -1), b)\n",
    "        gr.append(l)\n",
    "        rate=rate*0.99\n",
    "for a, b in zip(check_x, check_y):\n",
    "    \n",
    "    l, c = train_fun(a.reshape(1, -1), b)\n",
    "    print l\n",
    "    graph.append(l)"
   ]
  },
  {
   "cell_type": "code",
   "execution_count": 27,
   "metadata": {
    "collapsed": false
   },
   "outputs": [
    {
     "data": {
      "text/plain": [
       "[<matplotlib.lines.Line2D at 0x7ff2c2b4f8d0>]"
      ]
     },
     "execution_count": 27,
     "metadata": {},
     "output_type": "execute_result"
    },
    {
     "data": {
      "image/png": "[encoded data removed]",
      "text/plain": [
       "<matplotlib.figure.Figure at 0x7ff2d8b07c90>"
      ]
     },
     "metadata": {},
     "output_type": "display_data"
    }
   ],
   "source": [
    "import matplotlib.pyplot as plt\n",
    "%matplotlib inline\n",
    "plt.plot(graph)"
   ]
  },
  {
   "cell_type": "code",
   "execution_count": 28,
   "metadata": {
    "collapsed": false
   },
   "outputs": [
    {
     "data": {
      "text/plain": [
       "[<matplotlib.lines.Line2D at 0x7ff2c2a50510>]"
      ]
     },
     "execution_count": 28,
     "metadata": {},
     "output_type": "execute_result"
    },
    {
     "data": {
      "image/png": "[encoded data removed]",
      "text/plain": [
       "<matplotlib.figure.Figure at 0x7ff2d8b10210>"
      ]
     },
     "metadata": {},
     "output_type": "display_data"
    }
   ],
   "source": [
    "plt.plot(gr[:1000])"
   ]
  },
  {
   "cell_type": "code",
   "execution_count": null,
   "metadata": {
    "collapsed": true
   },
   "outputs": [],
   "source": []
  }
 ],
 "metadata": {
  "kernelspec": {
   "display_name": "Python 2",
   "language": "python",
   "name": "python2"
  },
  "language_info": {
   "codemirror_mode": {
    "name": "ipython",
    "version": 2
   },
   "file_extension": ".py",
   "mimetype": "text/x-python",
   "name": "python",
   "nbconvert_exporter": "python",
   "pygments_lexer": "ipython2",
   "version": "2.7.10"
  }
 },
 "nbformat": 4,
 "nbformat_minor": 0
}
